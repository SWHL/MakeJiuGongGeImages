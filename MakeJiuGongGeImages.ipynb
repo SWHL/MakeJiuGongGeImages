{
  "nbformat": 4,
  "nbformat_minor": 0,
  "metadata": {
    "colab": {
      "name": "Untitled0.ipynb",
      "provenance": [],
      "authorship_tag": "ABX9TyNfHz2ur6ZCRHswE7HhswPf",
      "include_colab_link": true
    },
    "kernelspec": {
      "name": "python3",
      "display_name": "Python 3"
    },
    "language_info": {
      "name": "python"
    }
  },
  "cells": [
    {
      "cell_type": "markdown",
      "metadata": {
        "id": "view-in-github",
        "colab_type": "text"
      },
      "source": [
        "<a href=\"https://colab.research.google.com/github/SWHL/MakeJiuGongGeImages/blob/master/MakeJiuGongGeImages.ipynb\" target=\"_parent\"><img src=\"https://colab.research.google.com/assets/colab-badge.svg\" alt=\"Open In Colab\"/></a>"
      ]
    },
    {
      "cell_type": "code",
      "source": [
        "!git clone https://github.com/SWHL/MakeJiuGongGeImages.git\n",
        "%cd MakeJiuGongGeImages"
      ],
      "metadata": {
        "id": "O-o5_1puh4lF",
        "outputId": "be2daabd-61a0-4746-ba0f-bd3475f3003b",
        "colab": {
          "base_uri": "https://localhost:8080/"
        }
      },
      "execution_count": 3,
      "outputs": [
        {
          "output_type": "stream",
          "name": "stdout",
          "text": [
            "Cloning into 'MakeJiuGongGeImages'...\n",
            "remote: Enumerating objects: 53, done.\u001b[K\n",
            "remote: Counting objects: 100% (53/53), done.\u001b[K\n",
            "remote: Compressing objects: 100% (49/49), done.\u001b[K\n",
            "remote: Total 53 (delta 11), reused 25 (delta 2), pack-reused 0\u001b[K\n",
            "Unpacking objects: 100% (53/53), done.\n",
            "/content/MakeJiuGongGeImages/MakeJiuGongGeImages\n"
          ]
        }
      ]
    },
    {
      "cell_type": "code",
      "source": [
        "!pip install -r requirements.txt -i https://pypi.douban.com/simple/"
      ],
      "metadata": {
        "id": "YjHJjlMEjzUF",
        "outputId": "2cd6c01b-e46b-4d95-af12-7688fa42736f",
        "colab": {
          "base_uri": "https://localhost:8080/"
        }
      },
      "execution_count": 5,
      "outputs": [
        {
          "output_type": "stream",
          "name": "stdout",
          "text": [
            "Looking in indexes: https://pypi.douban.com/simple/\n",
            "Requirement already satisfied: opencv-python in /usr/local/lib/python3.7/dist-packages (from -r requirements.txt (line 1)) (4.1.2.30)\n",
            "Requirement already satisfied: numpy in /usr/local/lib/python3.7/dist-packages (from -r requirements.txt (line 2)) (1.19.5)\n"
          ]
        }
      ]
    },
    {
      "cell_type": "code",
      "execution_count": 6,
      "metadata": {
        "id": "TOb6EA10hW8e"
      },
      "outputs": [],
      "source": [
        "import cv2\n",
        "import numpy as np\n",
        "from matplotlib import pyplot as plt"
      ]
    },
    {
      "cell_type": "code",
      "source": [
        "def obtain_heart(image_path):\n",
        "    \"\"\"\n",
        "    将给定图像扣为心形\n",
        "    \"\"\"\n",
        "    heart_im = cv2.imread('./assets/heart.jpg')\n",
        "\n",
        "    heart_im = cv2.cvtColor(heart_im, cv2.COLOR_BGR2GRAY)\n",
        "\n",
        "    im = cv2.imread(image_path)\n",
        "\n",
        "    im = cv2.resize(im, (heart_im.shape[1], heart_im.shape[0]))\n",
        "\n",
        "    im_back = np.zeros_like(im)\n",
        "\n",
        "    rows, cols = heart_im.shape\n",
        "    for i in range(rows):\n",
        "        for j in range(cols):\n",
        "            if heart_im[i, j] == 0:\n",
        "                im_back[i, j, :] = im[i, j, :]\n",
        "            else:\n",
        "                im_back[i, j, :] = 255\n",
        "\n",
        "\n",
        "    im_back = cv2.cvtColor(im_back, cv2.COLOR_BGR2RGB)\n",
        "    return im_back"
      ],
      "metadata": {
        "id": "OMAK8yVPhz2-"
      },
      "execution_count": 7,
      "outputs": []
    },
    {
      "cell_type": "code",
      "source": [
        ""
      ],
      "metadata": {
        "id": "iOM_eMQcj4JI"
      },
      "execution_count": null,
      "outputs": []
    }
  ]
}