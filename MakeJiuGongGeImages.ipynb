{
  "nbformat": 4,
  "nbformat_minor": 0,
  "metadata": {
    "colab": {
      "name": "Untitled0.ipynb",
      "provenance": [],
      "authorship_tag": "ABX9TyOpCj7nZmd5yD6Sh4B2W/dy",
      "include_colab_link": true
    },
    "kernelspec": {
      "name": "python3",
      "display_name": "Python 3"
    },
    "language_info": {
      "name": "python"
    }
  },
  "cells": [
    {
      "cell_type": "markdown",
      "metadata": {
        "id": "view-in-github",
        "colab_type": "text"
      },
      "source": [
        "<a href=\"https://colab.research.google.com/github/SWHL/MakeJiuGongGeImages/blob/master/MakeJiuGongGeImages.ipynb\" target=\"_parent\"><img src=\"https://colab.research.google.com/assets/colab-badge.svg\" alt=\"Open In Colab\"/></a>"
      ]
    },
    {
      "cell_type": "code",
      "source": [
        "!git clone https://github.com/SWHL/MakeJiuGongGeImages.git\n",
        "%cd MakeJiuGongGeImages"
      ],
      "metadata": {
        "id": "O-o5_1puh4lF",
        "outputId": "23c4a662-b832-4d1e-a5bb-1b9c932aaf19",
        "colab": {
          "base_uri": "https://localhost:8080/"
        }
      },
      "execution_count": 8,
      "outputs": [
        {
          "output_type": "stream",
          "name": "stdout",
          "text": [
            "Cloning into 'MakeJiuGongGeImages'...\n",
            "remote: Enumerating objects: 56, done.\u001b[K\n",
            "remote: Counting objects: 100% (56/56), done.\u001b[K\n",
            "remote: Compressing objects: 100% (52/52), done.\u001b[K\n",
            "remote: Total 56 (delta 13), reused 25 (delta 2), pack-reused 0\u001b[K\n",
            "Unpacking objects: 100% (56/56), done.\n",
            "/content/MakeJiuGongGeImages/MakeJiuGongGeImages/MakeJiuGongGeImages\n"
          ]
        }
      ]
    },
    {
      "cell_type": "code",
      "source": [
        "!pip install -r requirements.txt -i https://pypi.douban.com/simple/"
      ],
      "metadata": {
        "id": "YjHJjlMEjzUF",
        "outputId": "074952a0-98c4-4ce3-af5c-859b2778198e",
        "colab": {
          "base_uri": "https://localhost:8080/"
        }
      },
      "execution_count": 9,
      "outputs": [
        {
          "output_type": "stream",
          "name": "stdout",
          "text": [
            "Looking in indexes: https://pypi.douban.com/simple/\n",
            "Requirement already satisfied: opencv-python in /usr/local/lib/python3.7/dist-packages (from -r requirements.txt (line 1)) (4.1.2.30)\n",
            "Requirement already satisfied: numpy in /usr/local/lib/python3.7/dist-packages (from -r requirements.txt (line 2)) (1.19.5)\n"
          ]
        }
      ]
    },
    {
      "cell_type": "code",
      "source": [
        "!pip install opencv-python==4.5.5.62 -i https://pypi.douban.com/simple/"
      ],
      "metadata": {
        "id": "ToXsnAR9smk2",
        "outputId": "59bd70e6-02c9-49c7-b60c-f564c676fb84",
        "colab": {
          "base_uri": "https://localhost:8080/",
          "height": 351
        }
      },
      "execution_count": 18,
      "outputs": [
        {
          "output_type": "stream",
          "name": "stdout",
          "text": [
            "Looking in indexes: https://pypi.douban.com/simple/\n",
            "Collecting opencv-python==4.5.5.62\n",
            "  Downloading https://pypi.doubanio.com/packages/9d/98/36bfcbff30da27dd6922ed73ca7802c37d87f77daf4c569da3dcb87b4296/opencv_python-4.5.5.62-cp36-abi3-manylinux_2_17_x86_64.manylinux2014_x86_64.whl (60.4 MB)\n",
            "\u001b[K     |████████████████████████████████| 60.4 MB 1.3 MB/s \n",
            "\u001b[?25hRequirement already satisfied: numpy>=1.14.5 in /usr/local/lib/python3.7/dist-packages (from opencv-python==4.5.5.62) (1.21.5)\n",
            "Installing collected packages: opencv-python\n",
            "  Attempting uninstall: opencv-python\n",
            "    Found existing installation: opencv-python 4.1.2.30\n",
            "    Uninstalling opencv-python-4.1.2.30:\n",
            "      Successfully uninstalled opencv-python-4.1.2.30\n",
            "\u001b[31mERROR: pip's dependency resolver does not currently take into account all the packages that are installed. This behaviour is the source of the following dependency conflicts.\n",
            "albumentations 0.1.12 requires imgaug<0.2.7,>=0.2.5, but you have imgaug 0.2.9 which is incompatible.\u001b[0m\n",
            "Successfully installed opencv-python-4.5.5.62\n"
          ]
        },
        {
          "output_type": "display_data",
          "data": {
            "application/vnd.colab-display-data+json": {
              "pip_warning": {
                "packages": [
                  "cv2"
                ]
              }
            }
          },
          "metadata": {}
        }
      ]
    },
    {
      "cell_type": "code",
      "execution_count": 13,
      "metadata": {
        "id": "TOb6EA10hW8e"
      },
      "outputs": [],
      "source": [
        "from pathlib import Path\n",
        "import cv2\n",
        "import numpy as np\n",
        "from matplotlib import pyplot as plt"
      ]
    },
    {
      "cell_type": "code",
      "source": [
        "def obtain_heart(bg_path, image_path):\n",
        "    \"\"\"将给定图像扣为心形\"\"\"\n",
        "    \n",
        "    heart_im = cv2.imread(bg_path)\n",
        "    heart_im = cv2.cvtColor(heart_im, cv2.COLOR_BGR2GRAY)\n",
        "\n",
        "    im = cv2.imread(image_path)\n",
        "    im = cv2.resize(im, (heart_im.shape[1], heart_im.shape[0]))\n",
        "    im_back = np.zeros_like(im)\n",
        "\n",
        "    rows, cols = heart_im.shape[:2]\n",
        "    for i in range(rows):\n",
        "        for j in range(cols):\n",
        "            if heart_im[i, j] == 0:\n",
        "                im_back[i, j, :] = im[i, j, :]\n",
        "            else:\n",
        "                im_back[i, j, :] = 255\n",
        "\n",
        "    im_back = cv2.cvtColor(im_back, cv2.COLOR_BGR2RGB)\n",
        "    return im_back\n",
        "\n",
        "\n",
        "def split_nine_images(im, image_path):\n",
        "    \"\"\"将图像分为九部分，并保存到对应路径下\"\"\"\n",
        "\n",
        "    height, width = im.shape[:2]\n",
        "    big_line = max(height, width)\n",
        "\n",
        "    new_img = np.zeros([big_line, big_line, 3], np.uint8) + 255\n",
        "\n",
        "    if height > width:\n",
        "        edge = (big_line - width) // 2\n",
        "        new_img[:, edge: width+edge, :] = im\n",
        "    else:\n",
        "        edge = (big_line - height) // 2\n",
        "        new_img[edge: height+edge, :, :] = im\n",
        "\n",
        "    sub_height, sub_width = int(big_line / 3), int(big_line / 3)\n",
        "\n",
        "    save_result_dir = Path('./assets/results') / Path(image_path).stem\n",
        "    save_result_dir.mkdir(parents=True, exists_ok=True)\n",
        "\n",
        "    for i in range(3):\n",
        "        for j in range(3):\n",
        "            if i < 2:\n",
        "                if j < 2:\n",
        "                    temp_img = new_img[i*sub_height: (i+1)*sub_height, j*sub_width: (j+1)*sub_width, :]\n",
        "                else:\n",
        "                    temp_img = new_img[i*sub_height: (i+1)*sub_height, j*sub_width:, :]\n",
        "            else:\n",
        "                if j < 2:\n",
        "                    temp_img = new_img[i*sub_height: , j*sub_width: (j+1)*sub_width, :]\n",
        "                else:\n",
        "                    temp_img = new_img[i*sub_height: , j*sub_width:, :]\n",
        "            temp_img = cv2.cvtColor(temp_img, cv2.COLOR_BGR2RGB)\n",
        "\n",
        "            save_full_path = save_result_dir / f'{i * 3 + j}.jpg'\n",
        "            cv2.imwrite(str(save_full_path), temp_img)"
      ],
      "metadata": {
        "id": "OMAK8yVPhz2-"
      },
      "execution_count": 14,
      "outputs": []
    },
    {
      "cell_type": "code",
      "source": [
        "# 指定扣的形状\n",
        "bg_path = './assets/background/heart.jpg'\n",
        "\n",
        "# 原图\n",
        "image_path =  './assets/raw_images/1.jpg'\n",
        "\n",
        "result = obtain_heart(bg_path, image_path)\n",
        "\n",
        "split_nine_images(result)\n",
        "print('九宫格图已经保存在/assets/results/下，序号顺序为从左到右')"
      ],
      "metadata": {
        "id": "iOM_eMQcj4JI",
        "colab": {
          "base_uri": "https://localhost:8080/",
          "height": 358
        },
        "outputId": "5edf91c8-cdc4-4f3c-a58b-9c8d6b206698"
      },
      "execution_count": 19,
      "outputs": [
        {
          "output_type": "error",
          "ename": "error",
          "evalue": "ignored",
          "traceback": [
            "\u001b[0;31m---------------------------------------------------------------------------\u001b[0m",
            "\u001b[0;31merror\u001b[0m                                     Traceback (most recent call last)",
            "\u001b[0;32m<ipython-input-19-7aeea510c9d8>\u001b[0m in \u001b[0;36m<module>\u001b[0;34m()\u001b[0m\n\u001b[1;32m      5\u001b[0m \u001b[0mimage_path\u001b[0m \u001b[0;34m=\u001b[0m  \u001b[0;34m'./assets/raw_images/1.jpg'\u001b[0m\u001b[0;34m\u001b[0m\u001b[0;34m\u001b[0m\u001b[0m\n\u001b[1;32m      6\u001b[0m \u001b[0;34m\u001b[0m\u001b[0m\n\u001b[0;32m----> 7\u001b[0;31m \u001b[0mresult\u001b[0m \u001b[0;34m=\u001b[0m \u001b[0mobtain_heart\u001b[0m\u001b[0;34m(\u001b[0m\u001b[0mbg_path\u001b[0m\u001b[0;34m,\u001b[0m \u001b[0mimage_path\u001b[0m\u001b[0;34m)\u001b[0m\u001b[0;34m\u001b[0m\u001b[0;34m\u001b[0m\u001b[0m\n\u001b[0m\u001b[1;32m      8\u001b[0m \u001b[0;34m\u001b[0m\u001b[0m\n\u001b[1;32m      9\u001b[0m \u001b[0msplit_nine_images\u001b[0m\u001b[0;34m(\u001b[0m\u001b[0mresult\u001b[0m\u001b[0;34m)\u001b[0m\u001b[0;34m\u001b[0m\u001b[0;34m\u001b[0m\u001b[0m\n",
            "\u001b[0;32m<ipython-input-14-e8f8b22f54f5>\u001b[0m in \u001b[0;36mobtain_heart\u001b[0;34m(bg_path, image_path)\u001b[0m\n\u001b[1;32m      3\u001b[0m \u001b[0;34m\u001b[0m\u001b[0m\n\u001b[1;32m      4\u001b[0m     \u001b[0mheart_im\u001b[0m \u001b[0;34m=\u001b[0m \u001b[0mcv2\u001b[0m\u001b[0;34m.\u001b[0m\u001b[0mimread\u001b[0m\u001b[0;34m(\u001b[0m\u001b[0mbg_path\u001b[0m\u001b[0;34m)\u001b[0m\u001b[0;34m\u001b[0m\u001b[0;34m\u001b[0m\u001b[0m\n\u001b[0;32m----> 5\u001b[0;31m     \u001b[0mheart_im\u001b[0m \u001b[0;34m=\u001b[0m \u001b[0mcv2\u001b[0m\u001b[0;34m.\u001b[0m\u001b[0mcvtColor\u001b[0m\u001b[0;34m(\u001b[0m\u001b[0mheart_im\u001b[0m\u001b[0;34m,\u001b[0m \u001b[0mcv2\u001b[0m\u001b[0;34m.\u001b[0m\u001b[0mCOLOR_BGR2GRAY\u001b[0m\u001b[0;34m)\u001b[0m\u001b[0;34m\u001b[0m\u001b[0;34m\u001b[0m\u001b[0m\n\u001b[0m\u001b[1;32m      6\u001b[0m \u001b[0;34m\u001b[0m\u001b[0m\n\u001b[1;32m      7\u001b[0m     \u001b[0mim\u001b[0m \u001b[0;34m=\u001b[0m \u001b[0mcv2\u001b[0m\u001b[0;34m.\u001b[0m\u001b[0mimread\u001b[0m\u001b[0;34m(\u001b[0m\u001b[0mimage_path\u001b[0m\u001b[0;34m)\u001b[0m\u001b[0;34m\u001b[0m\u001b[0;34m\u001b[0m\u001b[0m\n",
            "\u001b[0;31merror\u001b[0m: OpenCV(4.1.2) /io/opencv/modules/imgproc/src/color.cpp:182: error: (-215:Assertion failed) !_src.empty() in function 'cvtColor'\n"
          ]
        }
      ]
    },
    {
      "cell_type": "code",
      "source": [
        ""
      ],
      "metadata": {
        "id": "K-hVaC8ksWpI"
      },
      "execution_count": null,
      "outputs": []
    }
  ]
}