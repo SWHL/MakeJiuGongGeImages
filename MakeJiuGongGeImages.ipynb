{
  "nbformat": 4,
  "nbformat_minor": 0,
  "metadata": {
    "colab": {
      "name": "Untitled0.ipynb",
      "provenance": [],
      "authorship_tag": "ABX9TyPwjJ20QB3PeoUeXzFDr5aN",
      "include_colab_link": true
    },
    "kernelspec": {
      "name": "python3",
      "display_name": "Python 3"
    },
    "language_info": {
      "name": "python"
    }
  },
  "cells": [
    {
      "cell_type": "markdown",
      "metadata": {
        "id": "view-in-github",
        "colab_type": "text"
      },
      "source": [
        "<a href=\"https://colab.research.google.com/github/SWHL/MakeJiuGongGeImages/blob/master/MakeJiuGongGeImages.ipynb\" target=\"_parent\"><img src=\"https://colab.research.google.com/assets/colab-badge.svg\" alt=\"Open In Colab\"/></a>"
      ]
    },
    {
      "cell_type": "code",
      "source": [
        "!git clone https://github.com/SWHL/MakeJiuGongGeImages.git\n",
        "%cd MakeJiuGongGeImages"
      ],
      "metadata": {
        "id": "O-o5_1puh4lF",
        "outputId": "f3911e0d-b0d1-442e-93cc-d64a18854b40",
        "colab": {
          "base_uri": "https://localhost:8080/"
        }
      },
      "execution_count": 43,
      "outputs": [
        {
          "output_type": "stream",
          "name": "stdout",
          "text": [
            "Cloning into 'MakeJiuGongGeImages'...\n",
            "remote: Enumerating objects: 69, done.\u001b[K\n",
            "remote: Counting objects: 100% (69/69), done.\u001b[K\n",
            "remote: Compressing objects: 100% (64/64), done.\u001b[K\n",
            "remote: Total 69 (delta 21), reused 25 (delta 2), pack-reused 0\u001b[K\n",
            "Unpacking objects: 100% (69/69), done.\n",
            "/content/MakeJiuGongGeImages\n"
          ]
        }
      ]
    },
    {
      "cell_type": "code",
      "source": [
        "!pip install -r requirements.txt -i https://pypi.douban.com/simple/"
      ],
      "metadata": {
        "id": "YjHJjlMEjzUF",
        "outputId": "99319121-7658-4993-9c61-7ec814151219",
        "colab": {
          "base_uri": "https://localhost:8080/"
        }
      },
      "execution_count": 44,
      "outputs": [
        {
          "output_type": "stream",
          "name": "stdout",
          "text": [
            "Looking in indexes: https://pypi.douban.com/simple/\n",
            "Requirement already satisfied: opencv-python==4.5.5.62 in /usr/local/lib/python3.7/dist-packages (from -r requirements.txt (line 1)) (4.5.5.62)\n",
            "Requirement already satisfied: numpy==1.21.5 in /usr/local/lib/python3.7/dist-packages (from -r requirements.txt (line 2)) (1.21.5)\n"
          ]
        }
      ]
    },
    {
      "cell_type": "code",
      "execution_count": 45,
      "metadata": {
        "id": "TOb6EA10hW8e"
      },
      "outputs": [],
      "source": [
        "from pathlib import Path\n",
        "import cv2\n",
        "import numpy as np\n",
        "from matplotlib import pyplot as plt"
      ]
    },
    {
      "cell_type": "code",
      "source": [
        "def obtain_heart(bg_path, image_path):\n",
        "    \"\"\"将给定图像扣为心形\"\"\"\n",
        "    \n",
        "    heart_im = cv2.imread(bg_path)\n",
        "    heart_im = cv2.cvtColor(heart_im, cv2.COLOR_BGR2GRAY)\n",
        "\n",
        "    im = cv2.imread(image_path)\n",
        "    im = cv2.resize(im, (heart_im.shape[1], heart_im.shape[0]))\n",
        "    im_back = np.zeros_like(im)\n",
        "\n",
        "    rows, cols = heart_im.shape[:2]\n",
        "    for i in range(rows):\n",
        "        for j in range(cols):\n",
        "            if heart_im[i, j] == 0:\n",
        "                im_back[i, j, :] = im[i, j, :]\n",
        "            else:\n",
        "                im_back[i, j, :] = 255\n",
        "\n",
        "    im_back = cv2.cvtColor(im_back, cv2.COLOR_BGR2RGB)\n",
        "    return im_back\n",
        "\n",
        "\n",
        "def split_nine_images(im, image_path):\n",
        "    \"\"\"将图像分为九部分，并保存到对应路径下\"\"\"\n",
        "\n",
        "    height, width = im.shape[:2]\n",
        "    big_line = max(height, width)\n",
        "\n",
        "    new_img = np.zeros([big_line, big_line, 3], np.uint8) + 255\n",
        "\n",
        "    if height > width:\n",
        "        edge = (big_line - width) // 2\n",
        "        new_img[:, edge: width+edge, :] = im\n",
        "    else:\n",
        "        edge = (big_line - height) // 2\n",
        "        new_img[edge: height+edge, :, :] = im\n",
        "\n",
        "    sub_height, sub_width = int(big_line / 3), int(big_line / 3)\n",
        "\n",
        "    save_result_dir = Path('./assets/results') / Path(image_path).stem\n",
        "    save_result_dir.mkdir(parents=True, exist_ok=True)\n",
        "\n",
        "    for i in range(3):\n",
        "        for j in range(3):\n",
        "            if i < 2:\n",
        "                if j < 2:\n",
        "                    temp_img = new_img[i*sub_height: (i+1)*sub_height, j*sub_width: (j+1)*sub_width, :]\n",
        "                else:\n",
        "                    temp_img = new_img[i*sub_height: (i+1)*sub_height, j*sub_width:, :]\n",
        "            else:\n",
        "                if j < 2:\n",
        "                    temp_img = new_img[i*sub_height: , j*sub_width: (j+1)*sub_width, :]\n",
        "                else:\n",
        "                    temp_img = new_img[i*sub_height: , j*sub_width:, :]\n",
        "            temp_img = cv2.cvtColor(temp_img, cv2.COLOR_BGR2RGB)\n",
        "\n",
        "            save_full_path = save_result_dir / f'{i * 3 + j}.jpg'\n",
        "            cv2.imwrite(str(save_full_path), temp_img)\n",
        "    print(f'九宫格图已经保存在{save_result_dir}，序号顺序为从左到右')"
      ],
      "metadata": {
        "id": "OMAK8yVPhz2-"
      },
      "execution_count": 51,
      "outputs": []
    },
    {
      "cell_type": "code",
      "source": [
        "# 指定扣的形状\n",
        "bg_path = './assets/background/heart.jpg'\n",
        "\n",
        "# 原图\n",
        "image_path =  './assets/raw_images/1.jpg'\n",
        "\n",
        "# 扣除指定背景图\n",
        "result = obtain_heart(bg_path, image_path)\n",
        "\n",
        "# 分为九宫格\n",
        "split_nine_images(result, image_path)"
      ],
      "metadata": {
        "id": "iOM_eMQcj4JI",
        "colab": {
          "base_uri": "https://localhost:8080/"
        },
        "outputId": "982a4220-9b01-4dd7-8749-ece32da1c12b"
      },
      "execution_count": 53,
      "outputs": [
        {
          "output_type": "stream",
          "name": "stdout",
          "text": [
            "九宫格图已经保存在assets/results/1，序号顺序为从左到右\n"
          ]
        }
      ]
    },
    {
      "cell_type": "code",
      "source": [
        ""
      ],
      "metadata": {
        "id": "K-hVaC8ksWpI"
      },
      "execution_count": null,
      "outputs": []
    }
  ]
}