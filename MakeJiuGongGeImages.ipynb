{
  "nbformat": 4,
  "nbformat_minor": 0,
  "metadata": {
    "colab": {
      "name": "Untitled0.ipynb",
      "provenance": [],
      "authorship_tag": "ABX9TyP1foKYTBjhDKiX7yDNsjCW",
      "include_colab_link": true
    },
    "kernelspec": {
      "name": "python3",
      "display_name": "Python 3"
    },
    "language_info": {
      "name": "python"
    }
  },
  "cells": [
    {
      "cell_type": "markdown",
      "metadata": {
        "id": "view-in-github",
        "colab_type": "text"
      },
      "source": [
        "<a href=\"https://colab.research.google.com/github/SWHL/MakeJiuGongGeImages/blob/master/MakeJiuGongGeImages.ipynb\" target=\"_parent\"><img src=\"https://colab.research.google.com/assets/colab-badge.svg\" alt=\"Open In Colab\"/></a>"
      ]
    },
    {
      "cell_type": "code",
      "source": [
        "!git clone https://github.com/SWHL/MakeJiuGongGeImages.git\n",
        "%cd MakeJiuGongGeImages"
      ],
      "metadata": {
        "id": "O-o5_1puh4lF",
        "outputId": "23c4a662-b832-4d1e-a5bb-1b9c932aaf19",
        "colab": {
          "base_uri": "https://localhost:8080/"
        }
      },
      "execution_count": 8,
      "outputs": [
        {
          "output_type": "stream",
          "name": "stdout",
          "text": [
            "Cloning into 'MakeJiuGongGeImages'...\n",
            "remote: Enumerating objects: 56, done.\u001b[K\n",
            "remote: Counting objects: 100% (56/56), done.\u001b[K\n",
            "remote: Compressing objects: 100% (52/52), done.\u001b[K\n",
            "remote: Total 56 (delta 13), reused 25 (delta 2), pack-reused 0\u001b[K\n",
            "Unpacking objects: 100% (56/56), done.\n",
            "/content/MakeJiuGongGeImages/MakeJiuGongGeImages/MakeJiuGongGeImages\n"
          ]
        }
      ]
    },
    {
      "cell_type": "code",
      "source": [
        "!pip install -r requirements.txt -i https://pypi.douban.com/simple/"
      ],
      "metadata": {
        "id": "YjHJjlMEjzUF",
        "outputId": "074952a0-98c4-4ce3-af5c-859b2778198e",
        "colab": {
          "base_uri": "https://localhost:8080/"
        }
      },
      "execution_count": 9,
      "outputs": [
        {
          "output_type": "stream",
          "name": "stdout",
          "text": [
            "Looking in indexes: https://pypi.douban.com/simple/\n",
            "Requirement already satisfied: opencv-python in /usr/local/lib/python3.7/dist-packages (from -r requirements.txt (line 1)) (4.1.2.30)\n",
            "Requirement already satisfied: numpy in /usr/local/lib/python3.7/dist-packages (from -r requirements.txt (line 2)) (1.19.5)\n"
          ]
        }
      ]
    },
    {
      "cell_type": "code",
      "execution_count": 10,
      "metadata": {
        "id": "TOb6EA10hW8e"
      },
      "outputs": [],
      "source": [
        "import cv2\n",
        "import numpy as np\n",
        "from matplotlib import pyplot as plt"
      ]
    },
    {
      "cell_type": "code",
      "source": [
        "def obtain_heart(image_path):\n",
        "    \"\"\"\n",
        "    将给定图像扣为心形\n",
        "    \"\"\"\n",
        "    heart_im = cv2.imread('./assets/heart.jpg')\n",
        "\n",
        "    heart_im = cv2.cvtColor(heart_im, cv2.COLOR_BGR2GRAY)\n",
        "\n",
        "    im = cv2.imread(image_path)\n",
        "\n",
        "    im = cv2.resize(im, (heart_im.shape[1], heart_im.shape[0]))\n",
        "\n",
        "    im_back = np.zeros_like(im)\n",
        "\n",
        "    rows, cols = heart_im.shape\n",
        "    for i in range(rows):\n",
        "        for j in range(cols):\n",
        "            if heart_im[i, j] == 0:\n",
        "                im_back[i, j, :] = im[i, j, :]\n",
        "            else:\n",
        "                im_back[i, j, :] = 255\n",
        "\n",
        "\n",
        "    im_back = cv2.cvtColor(im_back, cv2.COLOR_BGR2RGB)\n",
        "    return im_back\n",
        "\n",
        "\n",
        "def split_nine_images(im: np.array):\n",
        "    \"\"\"\n",
        "    将图像分为九部分，并保存到对应路径下\n",
        "    \"\"\"\n",
        "    height, width = im.shape[:2]\n",
        "\n",
        "    height, width\n",
        "\n",
        "    big_line = max(height, width)\n",
        "\n",
        "    newImg = np.zeros([big_line, big_line, 3], np.uint8) + 255\n",
        "\n",
        "    if height > width:\n",
        "        edge = (big_line - width) // 2\n",
        "        newImg[:, edge: width+edge, :] = im\n",
        "    else:\n",
        "        edge = (big_line - height) // 2\n",
        "        newImg[edge: height+edge, :, :] = im\n",
        "\n",
        "    subHeight, subWidth = int(big_line / 3), int(big_line / 3)\n",
        "\n",
        "    for i in range(3):\n",
        "        for j in range(3):\n",
        "            if i < 2:\n",
        "                if j < 2:\n",
        "                    tempImg = newImg[i*subHeight: (i+1)*subHeight, j*subWidth: (j+1)*subWidth, :]\n",
        "                else:\n",
        "                    tempImg = newImg[i*subHeight: (i+1)*subHeight, j*subWidth:, :]\n",
        "            else:\n",
        "                if j < 2:\n",
        "                    tempImg = newImg[i*subHeight: , j*subWidth: (j+1)*subWidth, :]\n",
        "                else:\n",
        "                    tempImg = newImg[i*subHeight: , j*subWidth:, :]\n",
        "            tempImg = cv2.cvtColor(tempImg, cv2.COLOR_BGR2RGB)\n",
        "            cv2.imwrite(f'./assets/images/{i*3+j}.jpg', tempImg)"
      ],
      "metadata": {
        "id": "OMAK8yVPhz2-"
      },
      "execution_count": 12,
      "outputs": []
    },
    {
      "cell_type": "code",
      "source": [
        "image_path = './assets/1.jpg'\n",
        "\n",
        "result = obtain_heart(image_path)\n",
        "\n",
        "split_nine_images(result)\n",
        "\n",
        "print('九宫格图已经保存在/assets/images/下，序号顺序为从左到右')"
      ],
      "metadata": {
        "id": "iOM_eMQcj4JI"
      },
      "execution_count": null,
      "outputs": []
    }
  ]
}